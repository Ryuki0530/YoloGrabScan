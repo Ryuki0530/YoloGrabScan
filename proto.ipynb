{
 "cells": [
  {
   "cell_type": "code",
   "execution_count": 5,
   "metadata": {},
   "outputs": [
    {
     "ename": "ModuleNotFoundError",
     "evalue": "No module named 'cv2'",
     "output_type": "error",
     "traceback": [
      "\u001b[1;31m---------------------------------------------------------------------------\u001b[0m",
      "\u001b[1;31mModuleNotFoundError\u001b[0m                       Traceback (most recent call last)",
      "\u001b[1;32m~\\AppData\\Local\\Temp/ipykernel_55980/405253425.py\u001b[0m in \u001b[0;36m<module>\u001b[1;34m\u001b[0m\n\u001b[1;32m----> 1\u001b[1;33m \u001b[1;32mimport\u001b[0m \u001b[0mcv2\u001b[0m\u001b[1;33m\u001b[0m\u001b[1;33m\u001b[0m\u001b[0m\n\u001b[0m\u001b[0;32m      2\u001b[0m \u001b[1;32mimport\u001b[0m \u001b[0mnumpy\u001b[0m \u001b[1;32mas\u001b[0m \u001b[0mnp\u001b[0m\u001b[1;33m\u001b[0m\u001b[1;33m\u001b[0m\u001b[0m\n\u001b[0;32m      3\u001b[0m \u001b[1;32mfrom\u001b[0m \u001b[0multralytics\u001b[0m \u001b[1;32mimport\u001b[0m \u001b[0mYOLO\u001b[0m  \u001b[1;31m# type: ignore\u001b[0m\u001b[1;33m\u001b[0m\u001b[1;33m\u001b[0m\u001b[0m\n\u001b[0;32m      4\u001b[0m \u001b[1;33m\u001b[0m\u001b[0m\n\u001b[0;32m      5\u001b[0m \u001b[1;31m# YOLOモデルの読み込み\u001b[0m\u001b[1;33m\u001b[0m\u001b[1;33m\u001b[0m\u001b[0m\n",
      "\u001b[1;31mModuleNotFoundError\u001b[0m: No module named 'cv2'"
     ]
    }
   ],
   "source": [
    "import cv2\n",
    "import numpy as np\n",
    "from ultralytics import YOLO  # type: ignore\n",
    "\n",
    "# YOLOモデルの読み込み\n",
    "model = YOLO(\"yolov8x\")  # 学習済みモデルのパスを指定\n",
    "\n",
    "# IPカメラのURL\n",
    "ip_camera_url = 0\n",
    "\n",
    "# 検出対象のクラスID\n",
    "HAND_CLASS_ID = 0  # 手のクラスID\n",
    "TARGET_CLASS_IDS = [39, 40, 41]  # 物体のクラスIDを配列で登録（例: 39, 40, 41）\n",
    "\n",
    "# 動きの追跡用\n",
    "def calculate_movement(positions, new_position):\n",
    "    positions.append(new_position)\n",
    "    if len(positions) > 2:\n",
    "        positions.pop(0)\n",
    "    if len(positions) == 2:\n",
    "        return np.array(positions[1]) - np.array(positions[0])\n",
    "    return np.array([0, 0])\n",
    "\n",
    "\n",
    "cap = cv2.VideoCapture(ip_camera_url)\n",
    "\n",
    "hand_positions = []\n",
    "object_positions = []\n",
    "\n",
    "while cap.isOpened():\n",
    "    ret, frame = cap.read()\n",
    "    if not ret:\n",
    "        break\n",
    "\n",
    "    results = model(frame)\n",
    "    detections = results[0].boxes.data.cpu().numpy()\n",
    "\n",
    "    hands = []\n",
    "    objects = []\n",
    "\n",
    "    # 検出された物体を分類\n",
    "    for detection in detections:\n",
    "        x1, y1, x2, y2, conf, class_id = detection\n",
    "        center = [(x1 + x2) / 2, (y1 + y2) / 2]\n",
    "        if class_id == HAND_CLASS_ID:  # 手のクラスID\n",
    "            hands.append(center)\n",
    "        elif class_id in TARGET_CLASS_IDS:  # 登録された物体のクラスID\n",
    "            objects.append(center)\n",
    "\n",
    "    # 動きを計算\n",
    "    hand_movement = np.array([0, 0])\n",
    "    object_movement = np.array([0, 0])\n",
    "    \n",
    "    for hand in hands:\n",
    "        hand_movement = calculate_movement(hand_positions, hand)\n",
    "    for obj in objects:\n",
    "        object_movement = calculate_movement(object_positions, obj)\n",
    "\n",
    "    # 同じ方向・速度の判定\n",
    "    holding = False\n",
    "    if len(hands) > 0 and len(objects) > 0:\n",
    "        if np.linalg.norm(hand_movement - object_movement) < 5:  # 速度の閾値\n",
    "            holding = True\n",
    "\n",
    "    # 結果を表示\n",
    "    for hand in hands:\n",
    "        cv2.circle(frame, (int(hand[0]), int(hand[1])), 5, (255, 0, 0), -1)  # 手を青い円で表示\n",
    "    for obj in objects:\n",
    "        cv2.circle(frame, (int(obj[0]), int(obj[1])), 5, (0, 255, 0), -1)  # 物体を緑の円で表示\n",
    "    if holding:\n",
    "        cv2.putText(frame, \"Holding Object\", (50, 50), cv2.FONT_HERSHEY_SIMPLEX, 1, (0, 0, 255), 2)\n",
    "\n",
    "    cv2.imshow(\"Frame\", frame)\n",
    "    if cv2.waitKey(1) & 0xFF == ord(\"q\"):\n",
    "        break\n",
    "\n",
    "cap.release()\n",
    "cv2.destroyAllWindows()\n"
   ]
  },
  {
   "cell_type": "markdown",
   "metadata": {},
   "source": [
    "これだと移動量ベースの判別しかできない。"
   ]
  }
 ],
 "metadata": {
  "kernelspec": {
   "display_name": "base",
   "language": "python",
   "name": "python3"
  },
  "language_info": {
   "codemirror_mode": {
    "name": "ipython",
    "version": 3
   },
   "file_extension": ".py",
   "mimetype": "text/x-python",
   "name": "python",
   "nbconvert_exporter": "python",
   "pygments_lexer": "ipython3",
   "version": "3.9.7"
  }
 },
 "nbformat": 4,
 "nbformat_minor": 2
}
